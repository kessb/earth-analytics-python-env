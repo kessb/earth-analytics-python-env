{
 "cells": [
  {
   "cell_type": "markdown",
   "metadata": {},
   "source": [
    "# NEON Data Structure\n",
    "### 3 subplot types\n",
    "* 1m2\n",
    "* 10m2\n",
    "* 100m2\n",
    "Spatial data is included with download, latlongs of each plot centroid available\n",
    "#### Plot centroids for AIM and NEON at same site\n",
    "* Shp for all sampling location available here  http://data.neonscience.org/documents.\n",
    "### NEON centroid locator\n",
    " * UsetheAPI (http://data.neonscience.org/api;e.g.http://data.neonscience.org/api/v0/locations/HARV_ 052.basePlot.div.41)toqueryforelevaon(“locaonElevaon”),easng(“locaonUtmEasng”),northing(“locaonUtmNorthing”),coordinateUncertainty(“ValueforCoordinateuncertainty”),elevaonUncertainty(“ValueforElevaonuncertainty”),andutmZone(“locaonUtmZone”),latude(“locaonDecimalLatude”)andlongitude(“locaonDecimalLatude”)asinputstothenextstep. 4. IncreasecoordinateUncertaintybyanappropriateamounttoaccountforerrorintroducedbynavigang withinplots. Addionalerrormaybeintroducedduetotapestretchingtonavigatetolocaonswithinplots andisesmatedas: • 0.25mfor1m2 subplotcentroids • 1.0mfor10m2 subplotcentroids\n"
   ]
  }
 ],
 "metadata": {
  "kernelspec": {
   "display_name": "Python 3",
   "language": "python",
   "name": "python3"
  },
  "language_info": {
   "codemirror_mode": {
    "name": "ipython",
    "version": 3
   },
   "file_extension": ".py",
   "mimetype": "text/x-python",
   "name": "python",
   "nbconvert_exporter": "python",
   "pygments_lexer": "ipython3",
   "version": "3.7.6"
  }
 },
 "nbformat": 4,
 "nbformat_minor": 4
}
